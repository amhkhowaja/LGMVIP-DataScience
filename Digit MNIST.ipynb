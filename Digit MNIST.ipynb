{
 "cells": [
  {
   "cell_type": "markdown",
   "id": "cd96f67f",
   "metadata": {},
   "source": [
    "# Importing Required Libraries for DeepLearning"
   ]
  },
  {
   "cell_type": "code",
   "execution_count": 39,
   "id": "d3e03807",
   "metadata": {},
   "outputs": [],
   "source": [
    "# Importing the required libraries\n",
    "import pandas as pd\n",
    "import numpy as np\n",
    "import tensorflow as tf\n",
    "import matplotlib.pyplot as plt\n",
    "from tensorflow.keras import datasets , models, layers\n"
   ]
  },
  {
   "cell_type": "markdown",
   "id": "dbdaa7ea",
   "metadata": {},
   "source": [
    "# Inputing Data and Analysing the data in different perspective"
   ]
  },
  {
   "cell_type": "code",
   "execution_count": 40,
   "id": "c4aee83b",
   "metadata": {},
   "outputs": [],
   "source": [
    "(X_train, y_train),(X_test, y_test) = datasets.mnist.load_data() #loading the digit MNIST data"
   ]
  },
  {
   "cell_type": "code",
   "execution_count": 41,
   "id": "d9118680",
   "metadata": {},
   "outputs": [
    {
     "data": {
      "image/png": "[encoded data removed]",
      "text/plain": [
       "<Figure size 1440x1440 with 10 Axes>"
      ]
     },
     "metadata": {
      "needs_background": "light"
     },
     "output_type": "display_data"
    }
   ],
   "source": [
    "#plt.imshow(X_train[1])   # plotting one image of each class\n",
    "indexes=[]\n",
    "for i in range (10):\n",
    "    j=0\n",
    "    while i!=y_train[j]:\n",
    "        j=j+1\n",
    "    indexes.append(j)\n",
    "        \n",
    "plt.figure(figsize=(20,20))\n",
    "for i in range (10):\n",
    "    plt.subplot(1, 10, i+1)\n",
    "    plt.imshow(X_train[indexes[i]] ) \n",
    "    \n"
   ]
  },
  {
   "cell_type": "code",
   "execution_count": 43,
   "id": "b3e305c3",
   "metadata": {},
   "outputs": [
    {
     "data": {
      "text/plain": [
       "[(60000, 28, 28), (60000,)]"
      ]
     },
     "execution_count": 43,
     "metadata": {},
     "output_type": "execute_result"
    }
   ],
   "source": [
    "#[X_train Shape, y_train shape] : \n",
    "[X_train.shape, y_train.shape]"
   ]
  },
  {
   "cell_type": "code",
   "execution_count": 44,
   "id": "52d6ecc7",
   "metadata": {},
   "outputs": [
    {
     "data": {
      "text/plain": [
       "[(10000, 28, 28), (10000,)]"
      ]
     },
     "execution_count": 44,
     "metadata": {},
     "output_type": "execute_result"
    }
   ],
   "source": [
    "[X_test.shape, y_test.shape]"
   ]
  },
  {
   "cell_type": "markdown",
   "id": "b5a47d5b",
   "metadata": {},
   "source": [
    "# Cleaning Data "
   ]
  },
  {
   "cell_type": "markdown",
   "id": "b4057eb2",
   "metadata": {},
   "source": [
    "##### This is Fashion MNIST Data , so we just have to NORMALIZE the data as per our use:"
   ]
  },
  {
   "cell_type": "code",
   "execution_count": 45,
   "id": "ea597d53",
   "metadata": {},
   "outputs": [],
   "source": [
    "X_train= X_train/255\n",
    "X_test= X_test/255"
   ]
  },
  {
   "cell_type": "markdown",
   "id": "b9d1acdc",
   "metadata": {},
   "source": [
    "# Modeling the Data"
   ]
  },
  {
   "cell_type": "markdown",
   "id": "bcbaf4b5",
   "metadata": {},
   "source": [
    "cnn: Convolutional Nueral Networks "
   ]
  },
  {
   "cell_type": "code",
   "execution_count": 77,
   "id": "8372d3d0",
   "metadata": {},
   "outputs": [],
   "source": [
    "cnn =models.Sequential([\n",
    "    layers.Conv2D(128, kernel_size=(3), padding ='same', activation ='relu'),\n",
    "    layers.MaxPooling2D((2,2), strides=2),\n",
    "    layers.Conv2D(64, kernel_size=(3), padding ='same', activation ='relu'),\n",
    "    layers.MaxPooling2D((2,2), strides=2),\n",
    "    layers.Flatten(),\n",
    "    layers.Dropout(0.5),\n",
    "    layers.Dense(64, activation ='relu'),\n",
    "    layers.Dense(10, activation ='softmax')\n",
    "])"
   ]
  },
  {
   "cell_type": "markdown",
   "id": "1b7649b9",
   "metadata": {},
   "source": [
    "# Compiling the Data "
   ]
  },
  {
   "cell_type": "markdown",
   "id": "03ec3785",
   "metadata": {},
   "source": [
    "Before going for training , model needs more setting , of \n",
    "###### Optimizer ,\n",
    "###### Loss, and \n",
    "###### Metrics\n"
   ]
  },
  {
   "cell_type": "code",
   "execution_count": 71,
   "id": "3d58d62c",
   "metadata": {},
   "outputs": [],
   "source": [
    "cnn.compile(optimizer='adam', loss='sparse_categorical_crossentropy', metrics=['accuracy'])"
   ]
  },
  {
   "cell_type": "markdown",
   "id": "10a9db1b",
   "metadata": {},
   "source": [
    "# Training the Data"
   ]
  },
  {
   "cell_type": "code",
   "execution_count": 72,
   "id": "e20d0714",
   "metadata": {},
   "outputs": [],
   "source": [
    "X_train = X_train.reshape((X_train.shape[0], 28, 28, 1))\n",
    "X_test = X_test.reshape((X_test.shape[0], 28, 28, 1))"
   ]
  },
  {
   "cell_type": "code",
   "execution_count": 73,
   "id": "84b48d79",
   "metadata": {
    "scrolled": false
   },
   "outputs": [
    {
     "name": "stdout",
     "output_type": "stream",
     "text": [
      "Epoch 1/10\n",
      "3375/3375 [==============================] - 22s 6ms/step - loss: 0.1552 - accuracy: 0.9519 - val_loss: 0.0427 - val_accuracy: 0.9870\n",
      "Epoch 2/10\n",
      "3375/3375 [==============================] - 21s 6ms/step - loss: 0.0661 - accuracy: 0.9795 - val_loss: 0.0326 - val_accuracy: 0.9923\n",
      "Epoch 3/10\n",
      "3375/3375 [==============================] - 21s 6ms/step - loss: 0.0523 - accuracy: 0.9834 - val_loss: 0.0324 - val_accuracy: 0.9908\n",
      "Epoch 4/10\n",
      "3375/3375 [==============================] - 20s 6ms/step - loss: 0.0420 - accuracy: 0.9865 - val_loss: 0.0328 - val_accuracy: 0.9923\n",
      "Epoch 5/10\n",
      "3375/3375 [==============================] - 21s 6ms/step - loss: 0.0371 - accuracy: 0.9883 - val_loss: 0.0323 - val_accuracy: 0.9927\n",
      "Epoch 6/10\n",
      "3375/3375 [==============================] - 21s 6ms/step - loss: 0.0314 - accuracy: 0.9899 - val_loss: 0.0331 - val_accuracy: 0.9920\n",
      "Epoch 7/10\n",
      "3375/3375 [==============================] - 21s 6ms/step - loss: 0.0292 - accuracy: 0.9902 - val_loss: 0.0269 - val_accuracy: 0.9937\n",
      "Epoch 8/10\n",
      "3375/3375 [==============================] - 21s 6ms/step - loss: 0.0266 - accuracy: 0.9916 - val_loss: 0.0265 - val_accuracy: 0.9932\n",
      "Epoch 9/10\n",
      "3375/3375 [==============================] - 21s 6ms/step - loss: 0.0253 - accuracy: 0.9923 - val_loss: 0.0271 - val_accuracy: 0.9930\n",
      "Epoch 10/10\n",
      "3375/3375 [==============================] - 21s 6ms/step - loss: 0.0229 - accuracy: 0.9923 - val_loss: 0.0291 - val_accuracy: 0.9925\n"
     ]
    }
   ],
   "source": [
    "history = cnn.fit(X_train, y_train, epochs =10, batch_size=16, validation_split=0.1, verbose =1)"
   ]
  },
  {
   "cell_type": "code",
   "execution_count": 74,
   "id": "e5516cf0",
   "metadata": {},
   "outputs": [
    {
     "name": "stdout",
     "output_type": "stream",
     "text": [
      "Model: \"sequential_4\"\n",
      "_________________________________________________________________\n",
      "Layer (type)                 Output Shape              Param #   \n",
      "=================================================================\n",
      "conv2d_12 (Conv2D)           (16, 28, 28, 128)         1280      \n",
      "_________________________________________________________________\n",
      "max_pooling2d_12 (MaxPooling (16, 14, 14, 128)         0         \n",
      "_________________________________________________________________\n",
      "conv2d_13 (Conv2D)           (16, 14, 14, 64)          73792     \n",
      "_________________________________________________________________\n",
      "max_pooling2d_13 (MaxPooling (16, 7, 7, 64)            0         \n",
      "_________________________________________________________________\n",
      "flatten_6 (Flatten)          (16, 3136)                0         \n",
      "_________________________________________________________________\n",
      "dropout_3 (Dropout)          (16, 3136)                0         \n",
      "_________________________________________________________________\n",
      "dense_8 (Dense)              (16, 64)                  200768    \n",
      "_________________________________________________________________\n",
      "dense_9 (Dense)              (16, 10)                  650       \n",
      "=================================================================\n",
      "Total params: 276,490\n",
      "Trainable params: 276,490\n",
      "Non-trainable params: 0\n",
      "_________________________________________________________________\n"
     ]
    }
   ],
   "source": [
    "cnn.summary()"
   ]
  },
  {
   "cell_type": "markdown",
   "id": "66b058b9",
   "metadata": {},
   "source": [
    "# Evaluating the Data"
   ]
  },
  {
   "cell_type": "code",
   "execution_count": 75,
   "id": "a57066b5",
   "metadata": {},
   "outputs": [
    {
     "name": "stdout",
     "output_type": "stream",
     "text": [
      "313/313 [==============================] - 2s 6ms/step - loss: 0.0275 - accuracy: 0.9917\n"
     ]
    },
    {
     "data": {
      "text/plain": [
       "[0.027482805773615837, 0.9916999936103821]"
      ]
     },
     "execution_count": 75,
     "metadata": {},
     "output_type": "execute_result"
    }
   ],
   "source": [
    "cnn.evaluate(X_test, y_test)"
   ]
  },
  {
   "cell_type": "markdown",
   "id": "a0b3e76c",
   "metadata": {},
   "source": [
    "# Analysis of the model"
   ]
  },
  {
   "cell_type": "code",
   "execution_count": 76,
   "id": "5b600533",
   "metadata": {},
   "outputs": [
    {
     "data": {
      "image/png": "[encoded data removed]",
      "text/plain": [
       "<Figure size 576x576 with 2 Axes>"
      ]
     },
     "metadata": {
      "needs_background": "light"
     },
     "output_type": "display_data"
    }
   ],
   "source": [
    "#plotting the training accuracy and validation accuracy with respect to epochs:\n",
    "EPOCHS=10\n",
    "plt.figure(figsize=(8,8))\n",
    "epoch_range = range(EPOCHS)\n",
    "acc= history.history['accuracy']\n",
    "val_acc= history.history['val_accuracy']\n",
    "loss= history.history['loss']\n",
    "val_loss= history.history['val_loss']\n",
    "plt.subplot(1,2,1)\n",
    "plt.plot(epoch_range,acc, label='Training accuracy' )\n",
    "plt.plot(epoch_range, val_acc, label ='Validation_accuracy')\n",
    "plt.title('Training and validation accuracy')\n",
    "plt.xlabel('Epochs')\n",
    "plt.ylabel('Accuracy')\n",
    "plt.legend()\n",
    "#plt.show()\n",
    "\n",
    "plt.subplot(1,2,2)\n",
    "plt.plot(epoch_range,loss, label='Training loss' )\n",
    "plt.plot(epoch_range, val_loss, label ='Validation_loss')\n",
    "plt.title('Training and validation Loss')\n",
    "plt.xlabel('Epochs')\n",
    "plt.ylabel('Loss')\n",
    "plt.legend()\n",
    "plt.show()"
   ]
  }
 ],
 "metadata": {
  "kernelspec": {
   "display_name": "Python 3",
   "language": "python",
   "name": "python3"
  },
  "language_info": {
   "codemirror_mode": {
    "name": "ipython",
    "version": 3
   },
   "file_extension": ".py",
   "mimetype": "text/x-python",
   "name": "python",
   "nbconvert_exporter": "python",
   "pygments_lexer": "ipython3",
   "version": "3.8.8"
  }
 },
 "nbformat": 4,
 "nbformat_minor": 5
}
